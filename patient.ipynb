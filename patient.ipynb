{
 "cells": [
  {
   "cell_type": "markdown",
   "metadata": {},
   "source": [
    "<h1 align=\"center\">\n",
    "    Patient Exploratory Data analysis\n",
    "</h1>\n",
    "This data is taken from Kaggle/amandam1 :<a> https://www.kaggle.com/amandam1/colorectal-cancer-patients</a>\n",
    "\n",
    "If you want to read more about Colon cancer Wiki : <a>https://en.wikipedia.org/wiki/Colorectal_cancer</a>"
   ]
  },
  {
   "cell_type": "markdown",
   "metadata": {},
   "source": [
    "# Key Words and Definitions\n",
    "---\n",
    "<div style=\"padding:10px\">\n",
    "<h1 id=\"Categorical_Variables\" >Categorical Variables </h1>\n",
    "<p style=\"font-size:18px\" >\n",
    "    In statistics, a categorical variable (also called qualitative variable) is a variable that can take on one of a limited, and usually fixed, number of possible values, assigning each individual or other unit of observation to a particular group or nominal category on the basis of some qualitative property. Ex: Gender(M/F), location(IND,US,etc...) .\n",
    "</p>\n",
    "</div>\n",
    "<hr style=\"opacity: 0.3\">\n",
    "\n",
    "<div style=\"padding:10px\">\n",
    "<h2 id=\"Dukes_Stage\"> Dukes Stage (Commonly refered as stage  I,II,III,IV) \n",
    "<ol>\n",
    "    <li><p style=\"font-size:18px\" >\n",
    "        Dukes Stage A : A Dukes A colon cancer is confined to the muscular lining of the intestinal wall.\n",
    "    </p></li>\n",
    "    <li><p style=\"font-size:18px\" >\n",
    "        Dukes Stage B : A Dukes B cancer is one in which the cancer has grown beyond the muscular layer of the bowel wall.\n",
    "    </p></li>\n",
    "    <li><p style=\"font-size:18px\" >\n",
    "        Dukes Stage C : A Dukes C colon cancer has spread to involve the lymph nodes.\n",
    "    </p></li>\n",
    "    <li><p style=\"font-size:18px\" >\n",
    "        Dukes Stage D : A Dukes D colon cancer is one in which there is spread to distant organs.\n",
    "    </p></li>\n",
    "</ol>\n",
    "</div>\n",
    "<hr style=\"opacity: 0.3\">\n",
    "\n",
    "<div style=\"padding:10px\">\n",
    "<h2 id=\"DFS\"> DFS (Disease Free Survival)\n",
    "<p style=\"font-size:18px\">\n",
    "    The length of time after primary treatment for a cancer ends that the patient survives without any signs or symptoms of that cancer.\n",
    "</p>\n",
    "</div>\n",
    "<hr style=\"opacity:0.5\">\n",
    "\n",
    "<div style=\"padding:10px\">\n",
    "<h2 id=\"DFS\"> DFS Event\n",
    "<p style=\"font-size:18px\">\n",
    "    DFS Event refers to if the patient is cured of cancer True: If the patient is cured.\n",
    "</p>\n",
    "</div>\n",
    "<hr style=\"opacity: 0.3\">\n",
    "\n",
    "<div style=\"padding:10px\">\n",
    "<h2 id=\"Adjuvant\"> Adjuvant\n",
    "<p style=\"font-size:18px\">\n",
    "    Therapy applied after initial treatment for cancer, especially to suppress secondary tumour formation is <u>Adjuvant</u>.\n",
    "</p>\n",
    "</div>\n",
    "<hr style=\"opacity: 0.3\">\n",
    "\n",
    "<div style=\"padding:10px\">\n",
    "<h2 id=\"ADJ_Radio\"> ADJ Radio \n",
    "<p style=\"font-size:18px\">\n",
    "    Adjuvant Radiation therapy uses high-powered energy beams, such as X-rays or protons, to kill cancer cells. It can be given internally or externally.\n",
    "</p>\n",
    "</div>\n",
    "<hr style=\"opacity: 0.3\">\n",
    "\n",
    "<div style=\"padding:10px\">\n",
    "<h2 id=\"ADJ_Chem\"> ADJ Chem (Adjuvant Chemotheraphy)\n",
    "<p style=\"font-size:18px\">\n",
    "    Adjuvant Chemotherapy method which uses drugs to kill cancer cells throughout the body.\n",
    "</p>\n",
    "</div>\n",
    "<hr style=\"opacity: 0.3\">"
   ]
  },
  {
   "cell_type": "code",
   "execution_count": 1,
   "metadata": {},
   "outputs": [],
   "source": [
    "import pandas as pd"
   ]
  },
  {
   "cell_type": "code",
   "execution_count": 5,
   "metadata": {},
   "outputs": [
    {
     "data": {
      "text/html": [
       "<div>\n",
       "<style scoped>\n",
       "    .dataframe tbody tr th:only-of-type {\n",
       "        vertical-align: middle;\n",
       "    }\n",
       "\n",
       "    .dataframe tbody tr th {\n",
       "        vertical-align: top;\n",
       "    }\n",
       "\n",
       "    .dataframe thead th {\n",
       "        text-align: right;\n",
       "    }\n",
       "</style>\n",
       "<table border=\"1\" class=\"dataframe\">\n",
       "  <thead>\n",
       "    <tr style=\"text-align: right;\">\n",
       "      <th></th>\n",
       "      <th>ID_REF</th>\n",
       "      <th>Age (in years)</th>\n",
       "      <th>Dukes Stage</th>\n",
       "      <th>Gender</th>\n",
       "      <th>Location</th>\n",
       "      <th>DFS (in months)</th>\n",
       "      <th>DFS event</th>\n",
       "      <th>Adj_Radio</th>\n",
       "      <th>Adj_Chem</th>\n",
       "    </tr>\n",
       "  </thead>\n",
       "  <tbody>\n",
       "    <tr>\n",
       "      <th>0</th>\n",
       "      <td>GSM877126</td>\n",
       "      <td>62.0</td>\n",
       "      <td>A</td>\n",
       "      <td>Male</td>\n",
       "      <td>Left</td>\n",
       "      <td>108.0</td>\n",
       "      <td>0.0</td>\n",
       "      <td>1.0</td>\n",
       "      <td>0.0</td>\n",
       "    </tr>\n",
       "    <tr>\n",
       "      <th>1</th>\n",
       "      <td>GSM877127</td>\n",
       "      <td>77.0</td>\n",
       "      <td>B</td>\n",
       "      <td>Male</td>\n",
       "      <td>Left</td>\n",
       "      <td>40.0</td>\n",
       "      <td>1.0</td>\n",
       "      <td>1.0</td>\n",
       "      <td>0.0</td>\n",
       "    </tr>\n",
       "    <tr>\n",
       "      <th>2</th>\n",
       "      <td>GSM877128</td>\n",
       "      <td>66.0</td>\n",
       "      <td>C</td>\n",
       "      <td>Female</td>\n",
       "      <td>Left</td>\n",
       "      <td>49.0</td>\n",
       "      <td>0.0</td>\n",
       "      <td>1.0</td>\n",
       "      <td>0.0</td>\n",
       "    </tr>\n",
       "    <tr>\n",
       "      <th>3</th>\n",
       "      <td>GSM877129</td>\n",
       "      <td>72.0</td>\n",
       "      <td>D</td>\n",
       "      <td>Female</td>\n",
       "      <td>Left</td>\n",
       "      <td>45.0</td>\n",
       "      <td>0.0</td>\n",
       "      <td>1.0</td>\n",
       "      <td>1.0</td>\n",
       "    </tr>\n",
       "    <tr>\n",
       "      <th>4</th>\n",
       "      <td>GSM877130</td>\n",
       "      <td>75.0</td>\n",
       "      <td>C</td>\n",
       "      <td>Male</td>\n",
       "      <td>Left</td>\n",
       "      <td>40.0</td>\n",
       "      <td>0.0</td>\n",
       "      <td>0.0</td>\n",
       "      <td>1.0</td>\n",
       "    </tr>\n",
       "    <tr>\n",
       "      <th>...</th>\n",
       "      <td>...</td>\n",
       "      <td>...</td>\n",
       "      <td>...</td>\n",
       "      <td>...</td>\n",
       "      <td>...</td>\n",
       "      <td>...</td>\n",
       "      <td>...</td>\n",
       "      <td>...</td>\n",
       "      <td>...</td>\n",
       "    </tr>\n",
       "    <tr>\n",
       "      <th>57</th>\n",
       "      <td>GSM877184</td>\n",
       "      <td>54.0</td>\n",
       "      <td>C</td>\n",
       "      <td>Male</td>\n",
       "      <td>Left</td>\n",
       "      <td>22.0</td>\n",
       "      <td>1.0</td>\n",
       "      <td>0.0</td>\n",
       "      <td>0.0</td>\n",
       "    </tr>\n",
       "    <tr>\n",
       "      <th>58</th>\n",
       "      <td>GSM877185</td>\n",
       "      <td>48.0</td>\n",
       "      <td>D</td>\n",
       "      <td>Male</td>\n",
       "      <td>Right</td>\n",
       "      <td>64.0</td>\n",
       "      <td>0.0</td>\n",
       "      <td>1.0</td>\n",
       "      <td>0.0</td>\n",
       "    </tr>\n",
       "    <tr>\n",
       "      <th>59</th>\n",
       "      <td>GSM877186</td>\n",
       "      <td>65.0</td>\n",
       "      <td>C</td>\n",
       "      <td>Male</td>\n",
       "      <td>Left</td>\n",
       "      <td>25.0</td>\n",
       "      <td>1.0</td>\n",
       "      <td>1.0</td>\n",
       "      <td>0.0</td>\n",
       "    </tr>\n",
       "    <tr>\n",
       "      <th>60</th>\n",
       "      <td>GSM877187</td>\n",
       "      <td>71.0</td>\n",
       "      <td>A</td>\n",
       "      <td>Male</td>\n",
       "      <td>Rectum</td>\n",
       "      <td>58.0</td>\n",
       "      <td>1.0</td>\n",
       "      <td>1.0</td>\n",
       "      <td>0.0</td>\n",
       "    </tr>\n",
       "    <tr>\n",
       "      <th>61</th>\n",
       "      <td>GSM877188</td>\n",
       "      <td>57.0</td>\n",
       "      <td>A</td>\n",
       "      <td>Male</td>\n",
       "      <td>Rectum</td>\n",
       "      <td>68.0</td>\n",
       "      <td>1.0</td>\n",
       "      <td>0.0</td>\n",
       "      <td>0.0</td>\n",
       "    </tr>\n",
       "  </tbody>\n",
       "</table>\n",
       "<p>62 rows × 9 columns</p>\n",
       "</div>"
      ],
      "text/plain": [
       "       ID_REF  Age (in years) Dukes Stage  Gender Location  DFS (in months)  \\\n",
       "0   GSM877126            62.0           A    Male     Left            108.0   \n",
       "1   GSM877127            77.0           B    Male     Left             40.0   \n",
       "2   GSM877128            66.0           C  Female     Left             49.0   \n",
       "3   GSM877129            72.0           D  Female     Left             45.0   \n",
       "4   GSM877130            75.0           C    Male     Left             40.0   \n",
       "..        ...             ...         ...     ...      ...              ...   \n",
       "57  GSM877184            54.0           C    Male     Left             22.0   \n",
       "58  GSM877185            48.0           D    Male    Right             64.0   \n",
       "59  GSM877186            65.0           C    Male     Left             25.0   \n",
       "60  GSM877187            71.0           A    Male   Rectum             58.0   \n",
       "61  GSM877188            57.0           A    Male   Rectum             68.0   \n",
       "\n",
       "    DFS event  Adj_Radio  Adj_Chem  \n",
       "0         0.0        1.0       0.0  \n",
       "1         1.0        1.0       0.0  \n",
       "2         0.0        1.0       0.0  \n",
       "3         0.0        1.0       1.0  \n",
       "4         0.0        0.0       1.0  \n",
       "..        ...        ...       ...  \n",
       "57        1.0        0.0       0.0  \n",
       "58        0.0        1.0       0.0  \n",
       "59        1.0        1.0       0.0  \n",
       "60        1.0        1.0       0.0  \n",
       "61        1.0        0.0       0.0  \n",
       "\n",
       "[62 rows x 9 columns]"
      ]
     },
     "execution_count": 5,
     "metadata": {},
     "output_type": "execute_result"
    }
   ],
   "source": [
    "raw_patient_data = pd.read_csv('data/Colorectal Cancer Patient Data.csv', sep=\",\")\n",
    "raw_patient_data.drop(\"S.No\", axis=1)"
   ]
  },
  {
   "cell_type": "markdown",
   "metadata": {},
   "source": [
    "About <a href=\"#DFS\"> DFS </a>"
   ]
  },
  {
   "cell_type": "code",
   "execution_count": 7,
   "metadata": {},
   "outputs": [],
   "source": [
    "# pinpointing for analysis \n",
    "features = raw_patient_data[['Age (in years)', 'DFS (in months)']]"
   ]
  },
  {
   "cell_type": "code",
   "execution_count": 8,
   "metadata": {},
   "outputs": [
    {
     "data": {
      "text/html": [
       "<div>\n",
       "<style scoped>\n",
       "    .dataframe tbody tr th:only-of-type {\n",
       "        vertical-align: middle;\n",
       "    }\n",
       "\n",
       "    .dataframe tbody tr th {\n",
       "        vertical-align: top;\n",
       "    }\n",
       "\n",
       "    .dataframe thead th {\n",
       "        text-align: right;\n",
       "    }\n",
       "</style>\n",
       "<table border=\"1\" class=\"dataframe\">\n",
       "  <thead>\n",
       "    <tr style=\"text-align: right;\">\n",
       "      <th></th>\n",
       "      <th>Age (in years)</th>\n",
       "      <th>DFS (in months)</th>\n",
       "    </tr>\n",
       "  </thead>\n",
       "  <tbody>\n",
       "    <tr>\n",
       "      <th>count</th>\n",
       "      <td>62.000000</td>\n",
       "      <td>62.000000</td>\n",
       "    </tr>\n",
       "    <tr>\n",
       "      <th>mean</th>\n",
       "      <td>61.112903</td>\n",
       "      <td>41.774194</td>\n",
       "    </tr>\n",
       "    <tr>\n",
       "      <th>std</th>\n",
       "      <td>9.581582</td>\n",
       "      <td>26.288076</td>\n",
       "    </tr>\n",
       "    <tr>\n",
       "      <th>min</th>\n",
       "      <td>28.000000</td>\n",
       "      <td>4.000000</td>\n",
       "    </tr>\n",
       "    <tr>\n",
       "      <th>25%</th>\n",
       "      <td>56.250000</td>\n",
       "      <td>19.500000</td>\n",
       "    </tr>\n",
       "    <tr>\n",
       "      <th>50%</th>\n",
       "      <td>62.000000</td>\n",
       "      <td>38.000000</td>\n",
       "    </tr>\n",
       "    <tr>\n",
       "      <th>75%</th>\n",
       "      <td>67.000000</td>\n",
       "      <td>57.500000</td>\n",
       "    </tr>\n",
       "    <tr>\n",
       "      <th>max</th>\n",
       "      <td>78.000000</td>\n",
       "      <td>108.000000</td>\n",
       "    </tr>\n",
       "  </tbody>\n",
       "</table>\n",
       "</div>"
      ],
      "text/plain": [
       "       Age (in years)  DFS (in months)\n",
       "count       62.000000        62.000000\n",
       "mean        61.112903        41.774194\n",
       "std          9.581582        26.288076\n",
       "min         28.000000         4.000000\n",
       "25%         56.250000        19.500000\n",
       "50%         62.000000        38.000000\n",
       "75%         67.000000        57.500000\n",
       "max         78.000000       108.000000"
      ]
     },
     "execution_count": 8,
     "metadata": {},
     "output_type": "execute_result"
    }
   ],
   "source": [
    "features.describe()"
   ]
  },
  {
   "cell_type": "markdown",
   "metadata": {},
   "source": [
    "# Observations:\n",
    "<p style=\"font-size:18px;text-align:center;\">\n",
    "    It can be observed from the data that the average people suffering from colon cancer are between age of <b> 52 - 71 </b>. "
   ]
  },
  {
   "cell_type": "code",
   "execution_count": 11,
   "metadata": {},
   "outputs": [],
   "source": [
    "# importing libraries for visualization \n",
    "import matplotlib.pyplot as plt\n",
    "# import seaborn as sns"
   ]
  },
  {
   "cell_type": "code",
   "execution_count": 12,
   "metadata": {},
   "outputs": [
    {
     "data": {
      "image/png": "[encoded data removed]",
      "text/plain": [
       "<Figure size 720x504 with 2 Axes>"
      ]
     },
     "metadata": {
      "needs_background": "light"
     },
     "output_type": "display_data"
    },
    {
     "data": {
      "image/png": "[encoded data removed]",
      "text/plain": [
       "<Figure size 720x504 with 2 Axes>"
      ]
     },
     "metadata": {
      "needs_background": "light"
     },
     "output_type": "display_data"
    }
   ],
   "source": [
    "# box plot represents median\n",
    "for name in features:\n",
    "    fig, (ax1, ax2) = plt.subplots(2, 1, figsize=(10,7))\n",
    "    \n",
    "    ax1.hist(features[name])\n",
    "    ax1.grid()\n",
    "    ax1.set_title('Histogram of ' + name)\n",
    "    \n",
    "    ax2.boxplot(features[name], vert=False)\n",
    "    ax2.grid()   \n",
    "    ax2.set_title('Boxplot of ' + name)\n",
    "    \n",
    "    plt.show()"
   ]
  },
  {
   "cell_type": "markdown",
   "metadata": {},
   "source": [
    "About <a href=\"#DFS\"> DFS </a>"
   ]
  },
  {
   "cell_type": "code",
   "execution_count": 13,
   "metadata": {},
   "outputs": [
    {
     "data": {
      "image/png": "[encoded data removed]",
      "text/plain": [
       "<Figure size 432x288 with 1 Axes>"
      ]
     },
     "metadata": {
      "needs_background": "light"
     },
     "output_type": "display_data"
    }
   ],
   "source": [
    "plt.scatter(features['Age (in years)'], features['DFS (in months)'])\n",
    "plt.title('DFS vs Age')\n",
    "\n",
    "plt.xlabel('Age')\n",
    "plt.ylabel('DFS (months)')\n",
    "\n",
    "plt.grid()\n",
    "plt.show()"
   ]
  },
  {
   "cell_type": "markdown",
   "metadata": {},
   "source": [
    "# <a href=\"#Categorical_Variables\">Categorical Variables </a> in our dataset\n",
    "<ul>\n",
    "    <li style=\"font-size:18px\"> Gender </li>\n",
    "    <li style=\"font-size:18px\"> Location </li>\n",
    "    <li style=\"font-size:18px\"> \n",
    "        <a href=\"#Dukes_Stage\">Dukes_Stage </a> \n",
    "    </li>\n",
    "    <li style=\"font-size:18px\">\n",
    "        <a href=\"#DFS\">DFS Event</a>\n",
    "    </li>\n",
    "    <li style=\"font-size:18px\">\n",
    "        <a href=\"#ADJ_Radio\">ADJ Radio </a>\n",
    "    </li>\n",
    "    <li style=\"font-size:18px\"> \n",
    "        <a href=\"#ADJ_Chem\">ADJ Chem </a>\n",
    "     </li>\n",
    "</ul>"
   ]
  },
  {
   "cell_type": "code",
   "execution_count": 17,
   "metadata": {},
   "outputs": [],
   "source": [
    "categorical_vars = raw_patient_data[[\n",
    "    'Gender', \n",
    "    'Location', \n",
    "    'Dukes Stage', \n",
    "    'DFS event', \n",
    "    'Adj_Radio', \n",
    "    'Adj_Chem'\n",
    "]]"
   ]
  },
  {
   "cell_type": "code",
   "execution_count": 18,
   "metadata": {},
   "outputs": [
    {
     "data": {
      "image/png": "[encoded data removed]",
      "text/plain": [
       "<Figure size 432x288 with 1 Axes>"
      ]
     },
     "metadata": {
      "needs_background": "light"
     },
     "output_type": "display_data"
    },
    {
     "data": {
      "image/png": "[encoded data removed]",
      "text/plain": [
       "<Figure size 432x288 with 1 Axes>"
      ]
     },
     "metadata": {
      "needs_background": "light"
     },
     "output_type": "display_data"
    },
    {
     "data": {
      "image/png": "[encoded data removed]",
      "text/plain": [
       "<Figure size 432x288 with 1 Axes>"
      ]
     },
     "metadata": {
      "needs_background": "light"
     },
     "output_type": "display_data"
    },
    {
     "data": {
      "image/png": "[encoded data removed]",
      "text/plain": [
       "<Figure size 432x288 with 1 Axes>"
      ]
     },
     "metadata": {
      "needs_background": "light"
     },
     "output_type": "display_data"
    },
    {
     "data": {
      "image/png": "[encoded data removed]",
      "text/plain": [
       "<Figure size 432x288 with 1 Axes>"
      ]
     },
     "metadata": {
      "needs_background": "light"
     },
     "output_type": "display_data"
    },
    {
     "data": {
      "image/png": "[encoded data removed]",
      "text/plain": [
       "<Figure size 432x288 with 1 Axes>"
      ]
     },
     "metadata": {
      "needs_background": "light"
     },
     "output_type": "display_data"
    }
   ],
   "source": [
    "for name in categorical_vars:\n",
    "    categorical_vars[name].value_counts().sort_index().plot(kind='bar')\n",
    "    plt.title(name)\n",
    "    plt.grid()\n",
    "    plt.show()"
   ]
  },
  {
   "cell_type": "markdown",
   "metadata": {},
   "source": [
    "# Observations: \n",
    "<p style=\"font-size:18px\"> It appears that Men are more likely than Women to be affected by Colon Cancer.\n",
    "<p style=\"font-size:18px\"> It appears that Colon Cancer is less likely to occur near Colon when compared to other parts."
   ]
  }
 ],
 "metadata": {
  "interpreter": {
   "hash": "7512c2ba8d8434952affa0281f7658811b9c468133ef125ce6a61db3a56988a2"
  },
  "kernelspec": {
   "display_name": "Python 3.9.7 64-bit",
   "language": "python",
   "name": "python3"
  },
  "language_info": {
   "codemirror_mode": {
    "name": "ipython",
    "version": 3
   },
   "file_extension": ".py",
   "mimetype": "text/x-python",
   "name": "python",
   "nbconvert_exporter": "python",
   "pygments_lexer": "ipython3",
   "version": "3.9.7"
  },
  "orig_nbformat": 4
 },
 "nbformat": 4,
 "nbformat_minor": 2
}
